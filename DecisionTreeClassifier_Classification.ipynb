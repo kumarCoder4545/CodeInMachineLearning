{
 "cells": [
  {
   "cell_type": "raw",
   "metadata": {},
   "source": [
    "Data set :\n",
    "Mice Protein Expression Dataset\n",
    "Link:https://archive.ics.uci.edu/ml/datasets/Mice+Protein+Expression\n",
    "\n",
    "Algorithm :\n",
    "Decision Tree"
   ]
  },
  {
   "cell_type": "markdown",
   "metadata": {
    "colab_type": "text",
    "id": "7ntufHl1n28c"
   },
   "source": [
    "**load libraries**\n",
    "\n",
    "we need basic libraries like pandas,numpy for data handling,seaborn is used for statistical graphics in Python.\n",
    "\n",
    "sklearn is machine learning library which contain all ml algorithms and useful methods for preprocessing.this library contain lots of features like Cross-validation,train-split etc."
   ]
  },
  {
   "cell_type": "code",
   "execution_count": 112,
   "metadata": {
    "colab": {},
    "colab_type": "code",
    "id": "Ls9A58exnH_q"
   },
   "outputs": [],
   "source": [
    "import pandas as pd\n",
    "import seaborn as sns\n",
    "from sklearn import preprocessing \n",
    "from scipy import stats\n",
    "import numpy as np\n",
    "import matplotlib.pyplot as plt\n",
    "from sklearn.preprocessing import MinMaxScaler"
   ]
  },
  {
   "cell_type": "markdown",
   "metadata": {
    "colab_type": "text",
    "id": "gjeWDJDyn7YU"
   },
   "source": [
    "**Data Profilling**"
   ]
  },
  {
   "cell_type": "code",
   "execution_count": 113,
   "metadata": {
    "colab": {},
    "colab_type": "code",
    "id": "Wnr3Ic63nTgM"
   },
   "outputs": [],
   "source": [
    "data = pd.read_excel('Data_Cortex_Nuclear.xls')"
   ]
  },
  {
   "cell_type": "code",
   "execution_count": 114,
   "metadata": {
    "colab": {
     "base_uri": "https://localhost:8080/",
     "height": 330
    },
    "colab_type": "code",
    "id": "LTNaQDldnUhc",
    "outputId": "38a82925-ae66-4ad1-fee0-fec2bb7efe94"
   },
   "outputs": [
    {
     "data": {
      "text/html": [
       "<div>\n",
       "<style scoped>\n",
       "    .dataframe tbody tr th:only-of-type {\n",
       "        vertical-align: middle;\n",
       "    }\n",
       "\n",
       "    .dataframe tbody tr th {\n",
       "        vertical-align: top;\n",
       "    }\n",
       "\n",
       "    .dataframe thead th {\n",
       "        text-align: right;\n",
       "    }\n",
       "</style>\n",
       "<table border=\"1\" class=\"dataframe\">\n",
       "  <thead>\n",
       "    <tr style=\"text-align: right;\">\n",
       "      <th></th>\n",
       "      <th>MouseID</th>\n",
       "      <th>DYRK1A_N</th>\n",
       "      <th>ITSN1_N</th>\n",
       "      <th>BDNF_N</th>\n",
       "      <th>NR1_N</th>\n",
       "      <th>NR2A_N</th>\n",
       "      <th>pAKT_N</th>\n",
       "      <th>pBRAF_N</th>\n",
       "      <th>pCAMKII_N</th>\n",
       "      <th>pCREB_N</th>\n",
       "      <th>...</th>\n",
       "      <th>pCFOS_N</th>\n",
       "      <th>SYP_N</th>\n",
       "      <th>H3AcK18_N</th>\n",
       "      <th>EGR1_N</th>\n",
       "      <th>H3MeK4_N</th>\n",
       "      <th>CaNA_N</th>\n",
       "      <th>Genotype</th>\n",
       "      <th>Treatment</th>\n",
       "      <th>Behavior</th>\n",
       "      <th>class</th>\n",
       "    </tr>\n",
       "  </thead>\n",
       "  <tbody>\n",
       "    <tr>\n",
       "      <th>0</th>\n",
       "      <td>309_1</td>\n",
       "      <td>0.503644</td>\n",
       "      <td>0.747193</td>\n",
       "      <td>0.430175</td>\n",
       "      <td>2.816329</td>\n",
       "      <td>5.990152</td>\n",
       "      <td>0.21883</td>\n",
       "      <td>0.177565</td>\n",
       "      <td>2.373744</td>\n",
       "      <td>0.232224</td>\n",
       "      <td>...</td>\n",
       "      <td>0.108336</td>\n",
       "      <td>0.427099</td>\n",
       "      <td>0.114783</td>\n",
       "      <td>0.13179</td>\n",
       "      <td>0.128186</td>\n",
       "      <td>1.675652</td>\n",
       "      <td>Control</td>\n",
       "      <td>Memantine</td>\n",
       "      <td>C/S</td>\n",
       "      <td>c-CS-m</td>\n",
       "    </tr>\n",
       "  </tbody>\n",
       "</table>\n",
       "<p>1 rows × 82 columns</p>\n",
       "</div>"
      ],
      "text/plain": [
       "  MouseID  DYRK1A_N   ITSN1_N    BDNF_N     NR1_N    NR2A_N   pAKT_N  \\\n",
       "0   309_1  0.503644  0.747193  0.430175  2.816329  5.990152  0.21883   \n",
       "\n",
       "    pBRAF_N  pCAMKII_N   pCREB_N  ...   pCFOS_N     SYP_N  H3AcK18_N   EGR1_N  \\\n",
       "0  0.177565   2.373744  0.232224  ...  0.108336  0.427099   0.114783  0.13179   \n",
       "\n",
       "   H3MeK4_N    CaNA_N  Genotype  Treatment  Behavior   class  \n",
       "0  0.128186  1.675652   Control  Memantine       C/S  c-CS-m  \n",
       "\n",
       "[1 rows x 82 columns]"
      ]
     },
     "execution_count": 114,
     "metadata": {},
     "output_type": "execute_result"
    }
   ],
   "source": [
    "data.head(1)"
   ]
  },
  {
   "cell_type": "code",
   "execution_count": 115,
   "metadata": {
    "colab": {
     "base_uri": "https://localhost:8080/",
     "height": 34
    },
    "colab_type": "code",
    "id": "UsLpq209nemU",
    "outputId": "78f464a0-e9c8-4ef7-9430-775240ac61c0"
   },
   "outputs": [
    {
     "data": {
      "text/plain": [
       "(1080, 82)"
      ]
     },
     "execution_count": 115,
     "metadata": {},
     "output_type": "execute_result"
    }
   ],
   "source": [
    "data.shape"
   ]
  },
  {
   "cell_type": "code",
   "execution_count": 116,
   "metadata": {
    "colab": {
     "base_uri": "https://localhost:8080/",
     "height": 307
    },
    "colab_type": "code",
    "id": "4hlFPwwpnhhE",
    "outputId": "6b955c12-837f-4005-8682-0a02b15fe1ea"
   },
   "outputs": [
    {
     "data": {
      "text/html": [
       "<div>\n",
       "<style scoped>\n",
       "    .dataframe tbody tr th:only-of-type {\n",
       "        vertical-align: middle;\n",
       "    }\n",
       "\n",
       "    .dataframe tbody tr th {\n",
       "        vertical-align: top;\n",
       "    }\n",
       "\n",
       "    .dataframe thead th {\n",
       "        text-align: right;\n",
       "    }\n",
       "</style>\n",
       "<table border=\"1\" class=\"dataframe\">\n",
       "  <thead>\n",
       "    <tr style=\"text-align: right;\">\n",
       "      <th></th>\n",
       "      <th>DYRK1A_N</th>\n",
       "      <th>ITSN1_N</th>\n",
       "      <th>BDNF_N</th>\n",
       "      <th>NR1_N</th>\n",
       "      <th>NR2A_N</th>\n",
       "      <th>pAKT_N</th>\n",
       "      <th>pBRAF_N</th>\n",
       "      <th>pCAMKII_N</th>\n",
       "      <th>pCREB_N</th>\n",
       "      <th>pELK_N</th>\n",
       "      <th>...</th>\n",
       "      <th>SHH_N</th>\n",
       "      <th>BAD_N</th>\n",
       "      <th>BCL2_N</th>\n",
       "      <th>pS6_N</th>\n",
       "      <th>pCFOS_N</th>\n",
       "      <th>SYP_N</th>\n",
       "      <th>H3AcK18_N</th>\n",
       "      <th>EGR1_N</th>\n",
       "      <th>H3MeK4_N</th>\n",
       "      <th>CaNA_N</th>\n",
       "    </tr>\n",
       "  </thead>\n",
       "  <tbody>\n",
       "    <tr>\n",
       "      <th>count</th>\n",
       "      <td>1077.000000</td>\n",
       "      <td>1077.000000</td>\n",
       "      <td>1077.000000</td>\n",
       "      <td>1077.000000</td>\n",
       "      <td>1077.000000</td>\n",
       "      <td>1077.000000</td>\n",
       "      <td>1077.000000</td>\n",
       "      <td>1077.000000</td>\n",
       "      <td>1077.000000</td>\n",
       "      <td>1077.000000</td>\n",
       "      <td>...</td>\n",
       "      <td>1080.000000</td>\n",
       "      <td>867.000000</td>\n",
       "      <td>795.000000</td>\n",
       "      <td>1080.000000</td>\n",
       "      <td>1005.000000</td>\n",
       "      <td>1080.000000</td>\n",
       "      <td>900.000000</td>\n",
       "      <td>870.000000</td>\n",
       "      <td>810.000000</td>\n",
       "      <td>1080.000000</td>\n",
       "    </tr>\n",
       "    <tr>\n",
       "      <th>mean</th>\n",
       "      <td>0.425810</td>\n",
       "      <td>0.617102</td>\n",
       "      <td>0.319088</td>\n",
       "      <td>2.297269</td>\n",
       "      <td>3.843934</td>\n",
       "      <td>0.233168</td>\n",
       "      <td>0.181846</td>\n",
       "      <td>3.537109</td>\n",
       "      <td>0.212574</td>\n",
       "      <td>1.428682</td>\n",
       "      <td>...</td>\n",
       "      <td>0.226676</td>\n",
       "      <td>0.157914</td>\n",
       "      <td>0.134762</td>\n",
       "      <td>0.121521</td>\n",
       "      <td>0.131053</td>\n",
       "      <td>0.446073</td>\n",
       "      <td>0.169609</td>\n",
       "      <td>0.183135</td>\n",
       "      <td>0.205440</td>\n",
       "      <td>1.337784</td>\n",
       "    </tr>\n",
       "    <tr>\n",
       "      <th>std</th>\n",
       "      <td>0.249362</td>\n",
       "      <td>0.251640</td>\n",
       "      <td>0.049383</td>\n",
       "      <td>0.347293</td>\n",
       "      <td>0.933100</td>\n",
       "      <td>0.041634</td>\n",
       "      <td>0.027042</td>\n",
       "      <td>1.295169</td>\n",
       "      <td>0.032587</td>\n",
       "      <td>0.466904</td>\n",
       "      <td>...</td>\n",
       "      <td>0.028989</td>\n",
       "      <td>0.029537</td>\n",
       "      <td>0.027417</td>\n",
       "      <td>0.014276</td>\n",
       "      <td>0.023863</td>\n",
       "      <td>0.066432</td>\n",
       "      <td>0.059402</td>\n",
       "      <td>0.040406</td>\n",
       "      <td>0.055514</td>\n",
       "      <td>0.317126</td>\n",
       "    </tr>\n",
       "    <tr>\n",
       "      <th>min</th>\n",
       "      <td>0.145327</td>\n",
       "      <td>0.245359</td>\n",
       "      <td>0.115181</td>\n",
       "      <td>1.330831</td>\n",
       "      <td>1.737540</td>\n",
       "      <td>0.063236</td>\n",
       "      <td>0.064043</td>\n",
       "      <td>1.343998</td>\n",
       "      <td>0.112812</td>\n",
       "      <td>0.429032</td>\n",
       "      <td>...</td>\n",
       "      <td>0.155869</td>\n",
       "      <td>0.088305</td>\n",
       "      <td>0.080657</td>\n",
       "      <td>0.067254</td>\n",
       "      <td>0.085419</td>\n",
       "      <td>0.258626</td>\n",
       "      <td>0.079691</td>\n",
       "      <td>0.105537</td>\n",
       "      <td>0.101787</td>\n",
       "      <td>0.586479</td>\n",
       "    </tr>\n",
       "    <tr>\n",
       "      <th>25%</th>\n",
       "      <td>0.288121</td>\n",
       "      <td>0.473361</td>\n",
       "      <td>0.287444</td>\n",
       "      <td>2.057411</td>\n",
       "      <td>3.155678</td>\n",
       "      <td>0.205755</td>\n",
       "      <td>0.164595</td>\n",
       "      <td>2.479834</td>\n",
       "      <td>0.190823</td>\n",
       "      <td>1.203665</td>\n",
       "      <td>...</td>\n",
       "      <td>0.206395</td>\n",
       "      <td>0.136424</td>\n",
       "      <td>0.115554</td>\n",
       "      <td>0.110839</td>\n",
       "      <td>0.113506</td>\n",
       "      <td>0.398082</td>\n",
       "      <td>0.125848</td>\n",
       "      <td>0.155121</td>\n",
       "      <td>0.165143</td>\n",
       "      <td>1.081423</td>\n",
       "    </tr>\n",
       "    <tr>\n",
       "      <th>50%</th>\n",
       "      <td>0.366378</td>\n",
       "      <td>0.565782</td>\n",
       "      <td>0.316564</td>\n",
       "      <td>2.296546</td>\n",
       "      <td>3.760855</td>\n",
       "      <td>0.231177</td>\n",
       "      <td>0.182302</td>\n",
       "      <td>3.326520</td>\n",
       "      <td>0.210594</td>\n",
       "      <td>1.355846</td>\n",
       "      <td>...</td>\n",
       "      <td>0.224000</td>\n",
       "      <td>0.152313</td>\n",
       "      <td>0.129468</td>\n",
       "      <td>0.121626</td>\n",
       "      <td>0.126523</td>\n",
       "      <td>0.448459</td>\n",
       "      <td>0.158240</td>\n",
       "      <td>0.174935</td>\n",
       "      <td>0.193994</td>\n",
       "      <td>1.317441</td>\n",
       "    </tr>\n",
       "    <tr>\n",
       "      <th>75%</th>\n",
       "      <td>0.487711</td>\n",
       "      <td>0.698032</td>\n",
       "      <td>0.348197</td>\n",
       "      <td>2.528481</td>\n",
       "      <td>4.440011</td>\n",
       "      <td>0.257261</td>\n",
       "      <td>0.197418</td>\n",
       "      <td>4.481940</td>\n",
       "      <td>0.234595</td>\n",
       "      <td>1.561316</td>\n",
       "      <td>...</td>\n",
       "      <td>0.241655</td>\n",
       "      <td>0.174017</td>\n",
       "      <td>0.148235</td>\n",
       "      <td>0.131955</td>\n",
       "      <td>0.143652</td>\n",
       "      <td>0.490773</td>\n",
       "      <td>0.197876</td>\n",
       "      <td>0.204542</td>\n",
       "      <td>0.235215</td>\n",
       "      <td>1.585824</td>\n",
       "    </tr>\n",
       "    <tr>\n",
       "      <th>max</th>\n",
       "      <td>2.516367</td>\n",
       "      <td>2.602662</td>\n",
       "      <td>0.497160</td>\n",
       "      <td>3.757641</td>\n",
       "      <td>8.482553</td>\n",
       "      <td>0.539050</td>\n",
       "      <td>0.317066</td>\n",
       "      <td>7.464070</td>\n",
       "      <td>0.306247</td>\n",
       "      <td>6.113347</td>\n",
       "      <td>...</td>\n",
       "      <td>0.358289</td>\n",
       "      <td>0.282016</td>\n",
       "      <td>0.261506</td>\n",
       "      <td>0.158748</td>\n",
       "      <td>0.256529</td>\n",
       "      <td>0.759588</td>\n",
       "      <td>0.479763</td>\n",
       "      <td>0.360692</td>\n",
       "      <td>0.413903</td>\n",
       "      <td>2.129791</td>\n",
       "    </tr>\n",
       "  </tbody>\n",
       "</table>\n",
       "<p>8 rows × 77 columns</p>\n",
       "</div>"
      ],
      "text/plain": [
       "          DYRK1A_N      ITSN1_N       BDNF_N        NR1_N       NR2A_N  \\\n",
       "count  1077.000000  1077.000000  1077.000000  1077.000000  1077.000000   \n",
       "mean      0.425810     0.617102     0.319088     2.297269     3.843934   \n",
       "std       0.249362     0.251640     0.049383     0.347293     0.933100   \n",
       "min       0.145327     0.245359     0.115181     1.330831     1.737540   \n",
       "25%       0.288121     0.473361     0.287444     2.057411     3.155678   \n",
       "50%       0.366378     0.565782     0.316564     2.296546     3.760855   \n",
       "75%       0.487711     0.698032     0.348197     2.528481     4.440011   \n",
       "max       2.516367     2.602662     0.497160     3.757641     8.482553   \n",
       "\n",
       "            pAKT_N      pBRAF_N    pCAMKII_N      pCREB_N       pELK_N  ...  \\\n",
       "count  1077.000000  1077.000000  1077.000000  1077.000000  1077.000000  ...   \n",
       "mean      0.233168     0.181846     3.537109     0.212574     1.428682  ...   \n",
       "std       0.041634     0.027042     1.295169     0.032587     0.466904  ...   \n",
       "min       0.063236     0.064043     1.343998     0.112812     0.429032  ...   \n",
       "25%       0.205755     0.164595     2.479834     0.190823     1.203665  ...   \n",
       "50%       0.231177     0.182302     3.326520     0.210594     1.355846  ...   \n",
       "75%       0.257261     0.197418     4.481940     0.234595     1.561316  ...   \n",
       "max       0.539050     0.317066     7.464070     0.306247     6.113347  ...   \n",
       "\n",
       "             SHH_N       BAD_N      BCL2_N        pS6_N      pCFOS_N  \\\n",
       "count  1080.000000  867.000000  795.000000  1080.000000  1005.000000   \n",
       "mean      0.226676    0.157914    0.134762     0.121521     0.131053   \n",
       "std       0.028989    0.029537    0.027417     0.014276     0.023863   \n",
       "min       0.155869    0.088305    0.080657     0.067254     0.085419   \n",
       "25%       0.206395    0.136424    0.115554     0.110839     0.113506   \n",
       "50%       0.224000    0.152313    0.129468     0.121626     0.126523   \n",
       "75%       0.241655    0.174017    0.148235     0.131955     0.143652   \n",
       "max       0.358289    0.282016    0.261506     0.158748     0.256529   \n",
       "\n",
       "             SYP_N   H3AcK18_N      EGR1_N    H3MeK4_N       CaNA_N  \n",
       "count  1080.000000  900.000000  870.000000  810.000000  1080.000000  \n",
       "mean      0.446073    0.169609    0.183135    0.205440     1.337784  \n",
       "std       0.066432    0.059402    0.040406    0.055514     0.317126  \n",
       "min       0.258626    0.079691    0.105537    0.101787     0.586479  \n",
       "25%       0.398082    0.125848    0.155121    0.165143     1.081423  \n",
       "50%       0.448459    0.158240    0.174935    0.193994     1.317441  \n",
       "75%       0.490773    0.197876    0.204542    0.235215     1.585824  \n",
       "max       0.759588    0.479763    0.360692    0.413903     2.129791  \n",
       "\n",
       "[8 rows x 77 columns]"
      ]
     },
     "execution_count": 116,
     "metadata": {},
     "output_type": "execute_result"
    }
   ],
   "source": [
    "data.describe()"
   ]
  },
  {
   "cell_type": "code",
   "execution_count": 117,
   "metadata": {
    "colab": {
     "base_uri": "https://localhost:8080/",
     "height": 265
    },
    "colab_type": "code",
    "id": "mJcE56VmnnF8",
    "outputId": "336320ff-cd1f-48f1-d1cb-cc3563d9d79d"
   },
   "outputs": [
    {
     "data": {
      "text/plain": [
       "Index(['MouseID', 'DYRK1A_N', 'ITSN1_N', 'BDNF_N', 'NR1_N', 'NR2A_N', 'pAKT_N',\n",
       "       'pBRAF_N', 'pCAMKII_N', 'pCREB_N', 'pELK_N', 'pERK_N', 'pJNK_N',\n",
       "       'PKCA_N', 'pMEK_N', 'pNR1_N', 'pNR2A_N', 'pNR2B_N', 'pPKCAB_N',\n",
       "       'pRSK_N', 'AKT_N', 'BRAF_N', 'CAMKII_N', 'CREB_N', 'ELK_N', 'ERK_N',\n",
       "       'GSK3B_N', 'JNK_N', 'MEK_N', 'TRKA_N', 'RSK_N', 'APP_N', 'Bcatenin_N',\n",
       "       'SOD1_N', 'MTOR_N', 'P38_N', 'pMTOR_N', 'DSCR1_N', 'AMPKA_N', 'NR2B_N',\n",
       "       'pNUMB_N', 'RAPTOR_N', 'TIAM1_N', 'pP70S6_N', 'NUMB_N', 'P70S6_N',\n",
       "       'pGSK3B_N', 'pPKCG_N', 'CDK5_N', 'S6_N', 'ADARB1_N', 'AcetylH3K9_N',\n",
       "       'RRP1_N', 'BAX_N', 'ARC_N', 'ERBB4_N', 'nNOS_N', 'Tau_N', 'GFAP_N',\n",
       "       'GluR3_N', 'GluR4_N', 'IL1B_N', 'P3525_N', 'pCASP9_N', 'PSD95_N',\n",
       "       'SNCA_N', 'Ubiquitin_N', 'pGSK3B_Tyr216_N', 'SHH_N', 'BAD_N', 'BCL2_N',\n",
       "       'pS6_N', 'pCFOS_N', 'SYP_N', 'H3AcK18_N', 'EGR1_N', 'H3MeK4_N',\n",
       "       'CaNA_N', 'Genotype', 'Treatment', 'Behavior', 'class'],\n",
       "      dtype='object')"
      ]
     },
     "execution_count": 117,
     "metadata": {},
     "output_type": "execute_result"
    }
   ],
   "source": [
    "data.columns  "
   ]
  },
  {
   "cell_type": "markdown",
   "metadata": {
    "colab_type": "text",
    "id": "UO7f4xyknuAt"
   },
   "source": [
    "check null data"
   ]
  },
  {
   "cell_type": "code",
   "execution_count": 118,
   "metadata": {
    "colab": {
     "base_uri": "https://localhost:8080/",
     "height": 230
    },
    "colab_type": "code",
    "id": "cGghEyxmoG0j",
    "outputId": "98e08404-0492-426c-ed7d-72f90dccdeb8"
   },
   "outputs": [
    {
     "data": {
      "text/plain": [
       "MouseID      0\n",
       "DYRK1A_N     3\n",
       "ITSN1_N      3\n",
       "BDNF_N       3\n",
       "NR1_N        3\n",
       "            ..\n",
       "CaNA_N       0\n",
       "Genotype     0\n",
       "Treatment    0\n",
       "Behavior     0\n",
       "class        0\n",
       "Length: 82, dtype: int64"
      ]
     },
     "execution_count": 118,
     "metadata": {},
     "output_type": "execute_result"
    }
   ],
   "source": [
    "data.isnull().sum()"
   ]
  },
  {
   "cell_type": "code",
   "execution_count": 119,
   "metadata": {
    "colab": {},
    "colab_type": "code",
    "id": "f87WxT7BoYvz"
   },
   "outputs": [],
   "source": [
    "# Null list contains column names having null values\n",
    "null_list=[]\n",
    "for i in range (0,data.isnull().sum().shape[0]-1):\n",
    "  if(data.isnull().sum()[i]>0):\n",
    "    null_list.append(data.isnull().sum().index[i])\n"
   ]
  },
  {
   "cell_type": "code",
   "execution_count": 120,
   "metadata": {
    "colab": {
     "base_uri": "https://localhost:8080/",
     "height": 34
    },
    "colab_type": "code",
    "id": "QePWBRu1oaKD",
    "outputId": "c7868c55-555d-4fdb-9707-a1d3496806ea"
   },
   "outputs": [
    {
     "data": {
      "text/plain": [
       "49"
      ]
     },
     "execution_count": 120,
     "metadata": {},
     "output_type": "execute_result"
    }
   ],
   "source": [
    "len(null_list)    # 49 columns having null values"
   ]
  },
  {
   "cell_type": "markdown",
   "metadata": {
    "colab_type": "text",
    "id": "ceV8gImxfuGE"
   },
   "source": [
    "Observation: 49 columns having null value"
   ]
  },
  {
   "cell_type": "code",
   "execution_count": 121,
   "metadata": {
    "colab": {},
    "colab_type": "code",
    "id": "LIwADQVzolCU"
   },
   "outputs": [],
   "source": [
    "# catagorical list contains column names having categorial values\n",
    "cat_features=[i for i in data.columns if data.dtypes[i]=='object'] "
   ]
  },
  {
   "cell_type": "code",
   "execution_count": 122,
   "metadata": {
    "colab": {
     "base_uri": "https://localhost:8080/",
     "height": 34
    },
    "colab_type": "code",
    "id": "9tFuYlL7osFb",
    "outputId": "3dd8d9f4-6aa6-4d8b-e8c8-dd1649d4ead9"
   },
   "outputs": [
    {
     "data": {
      "text/plain": [
       "5"
      ]
     },
     "execution_count": 122,
     "metadata": {},
     "output_type": "execute_result"
    }
   ],
   "source": [
    "len(cat_features)    # 5 columns having categorial data"
   ]
  },
  {
   "cell_type": "markdown",
   "metadata": {
    "colab_type": "text",
    "id": "hzn_l8tSfrv2"
   },
   "source": [
    "5 columns having categorial data"
   ]
  },
  {
   "cell_type": "code",
   "execution_count": 123,
   "metadata": {
    "colab": {
     "base_uri": "https://localhost:8080/",
     "height": 230
    },
    "colab_type": "code",
    "id": "V4fjNWrZoCVc",
    "outputId": "0fdcb2d8-efad-40d3-a463-f67e5a45fd09"
   },
   "outputs": [
    {
     "data": {
      "text/plain": [
       "MouseID      1080\n",
       "DYRK1A_N     1077\n",
       "ITSN1_N      1076\n",
       "BDNF_N       1077\n",
       "NR1_N        1077\n",
       "             ... \n",
       "CaNA_N       1080\n",
       "Genotype        2\n",
       "Treatment       2\n",
       "Behavior        2\n",
       "class           8\n",
       "Length: 82, dtype: int64"
      ]
     },
     "execution_count": 123,
     "metadata": {},
     "output_type": "execute_result"
    }
   ],
   "source": [
    "data.nunique(axis=0)"
   ]
  },
  {
   "cell_type": "code",
   "execution_count": 124,
   "metadata": {
    "colab": {
     "base_uri": "https://localhost:8080/",
     "height": 176
    },
    "colab_type": "code",
    "id": "F66TKfe4JPpM",
    "outputId": "1d191375-23d9-4257-f3ee-82eb4abdbfb2"
   },
   "outputs": [
    {
     "data": {
      "text/plain": [
       "c-SC-m    150\n",
       "c-CS-m    150\n",
       "t-CS-m    135\n",
       "c-CS-s    135\n",
       "t-SC-m    135\n",
       "c-SC-s    135\n",
       "t-SC-s    135\n",
       "t-CS-s    105\n",
       "Name: class, dtype: int64"
      ]
     },
     "execution_count": 124,
     "metadata": {},
     "output_type": "execute_result"
    }
   ],
   "source": [
    "data['class'].value_counts()   # from this we can say labels are balanced"
   ]
  },
  {
   "cell_type": "markdown",
   "metadata": {
    "colab_type": "text",
    "id": "YmrrWGvkfmPh"
   },
   "source": [
    "\n",
    "from this we can say labels are balanced"
   ]
  },
  {
   "cell_type": "code",
   "execution_count": 125,
   "metadata": {
    "colab": {
     "base_uri": "https://localhost:8080/",
     "height": 34
    },
    "colab_type": "code",
    "id": "MjumtC1zquAR",
    "outputId": "c87d23d8-059d-461d-d5b5-f7cb917ef3e3"
   },
   "outputs": [
    {
     "data": {
      "text/plain": [
       "(1080, 82)"
      ]
     },
     "execution_count": 125,
     "metadata": {},
     "output_type": "execute_result"
    }
   ],
   "source": [
    "\n",
    "data.shape"
   ]
  },
  {
   "cell_type": "markdown",
   "metadata": {
    "colab_type": "text",
    "id": "CsKdXXdQJ5t2"
   },
   "source": [
    "-------------------------------------------------------------------------------\n",
    "Observations:\n",
    "------------------------------------------------------------------------------------\n",
    "\n",
    "we perform data profilling for understanding the dataset \n",
    "\n",
    "size of dataset is 1080 rows × 82 columns\n",
    "\n",
    "all columns are float datatype except MouseID,Genotype,Treatment,Behavior,class columns .\n",
    "\n",
    "data.columns  is used to get list of all columns\n",
    "\n",
    "data.nunique(axis=0) this function used to show unique value per column\n",
    "\n",
    "49 columns having null values\n",
    "\n",
    "5 columns having categorial data\n",
    "\n",
    "\n",
    "\n",
    "\n",
    "\n",
    "--------------------------------------------------------------------------------"
   ]
  },
  {
   "cell_type": "markdown",
   "metadata": {
    "colab_type": "text",
    "id": "FcZk4b_EpQqu"
   },
   "source": [
    "\n",
    "\n",
    "**Data cleaning**"
   ]
  },
  {
   "cell_type": "markdown",
   "metadata": {
    "colab_type": "text",
    "id": "Q9FqKpsPRZ-_"
   },
   "source": [
    "\n",
    "**1)   handle Null values**"
   ]
  },
  {
   "cell_type": "code",
   "execution_count": 126,
   "metadata": {
    "colab": {},
    "colab_type": "code",
    "id": "LOo1QeKyqb5c"
   },
   "outputs": [],
   "source": [
    "for i in range (0,len(null_list)-1):\n",
    "  data[null_list[i]]=data[null_list[i]].fillna(data[null_list[i]].mean())"
   ]
  },
  {
   "cell_type": "code",
   "execution_count": 127,
   "metadata": {
    "colab": {
     "base_uri": "https://localhost:8080/",
     "height": 691
    },
    "colab_type": "code",
    "id": "EBqwAMhIoAqY",
    "outputId": "74b73462-a879-44e2-8a3d-00c36c2fb891"
   },
   "outputs": [
    {
     "data": {
      "text/plain": [
       "<AxesSubplot:>"
      ]
     },
     "execution_count": 127,
     "metadata": {},
     "output_type": "execute_result"
    },
    {
     "data": {
      "image/png": "[encoded data removed]",
      "text/plain": [
       "<Figure size 2160x720 with 1 Axes>"
      ]
     },
     "metadata": {},
     "output_type": "display_data"
    }
   ],
   "source": [
    "plt.figure(figsize=(30,10))\n",
    "sns.heatmap(data.isnull(),yticklabels=False,cbar=False)"
   ]
  },
  {
   "cell_type": "code",
   "execution_count": 128,
   "metadata": {
    "colab": {},
    "colab_type": "code",
    "id": "IvBFHyowv7jZ"
   },
   "outputs": [],
   "source": [
    "data['H3MeK4_N']=data['H3MeK4_N'].fillna(data['H3MeK4_N'].mean())"
   ]
  },
  {
   "cell_type": "code",
   "execution_count": 129,
   "metadata": {
    "colab": {
     "base_uri": "https://localhost:8080/",
     "height": 691
    },
    "colab_type": "code",
    "id": "fOp04jufsBiz",
    "outputId": "fbd29fff-9602-40e8-9bc5-d39ee9c868c2"
   },
   "outputs": [
    {
     "data": {
      "text/plain": [
       "<AxesSubplot:>"
      ]
     },
     "execution_count": 129,
     "metadata": {},
     "output_type": "execute_result"
    },
    {
     "data": {
      "image/png": "[encoded data removed]",
      "text/plain": [
       "<Figure size 2160x720 with 1 Axes>"
      ]
     },
     "metadata": {},
     "output_type": "display_data"
    }
   ],
   "source": [
    "plt.figure(figsize=(30,10))\n",
    "sns.heatmap(data.isnull(),yticklabels=False,cbar=False)"
   ]
  },
  {
   "cell_type": "markdown",
   "metadata": {
    "colab_type": "text",
    "id": "KNy6auUdsDtw"
   },
   "source": [
    "finally we get clean data free from missing  values"
   ]
  },
  {
   "cell_type": "markdown",
   "metadata": {
    "colab_type": "text",
    "id": "4tSq8AyS1jrP"
   },
   "source": [
    "\n",
    "**2)   conversion of catogorical into integer using label-encoder**\n",
    "\n"
   ]
  },
  {
   "cell_type": "code",
   "execution_count": 130,
   "metadata": {
    "colab": {},
    "colab_type": "code",
    "id": "5jy9kMck1FLI"
   },
   "outputs": [],
   "source": [
    "from sklearn import preprocessing  \n",
    "label_encoder = preprocessing.LabelEncoder() \n",
    "data['MouseID']= label_encoder.fit_transform(data['MouseID']) \n",
    "data['Genotype']= label_encoder.fit_transform(data['Genotype']) \n",
    "data['Treatment']= label_encoder.fit_transform(data['Treatment']) \n",
    "data['Behavior']= label_encoder.fit_transform(data['Behavior'])   \n",
    "data['class']= label_encoder.fit_transform(data['class']) "
   ]
  },
  {
   "cell_type": "code",
   "execution_count": 131,
   "metadata": {
    "colab": {
     "base_uri": "https://localhost:8080/",
     "height": 34
    },
    "colab_type": "code",
    "id": "nNJbwR872XNH",
    "outputId": "07dee5e7-ca47-40e7-84a8-8585649a8d00"
   },
   "outputs": [
    {
     "data": {
      "text/plain": [
       "(1080, 82)"
      ]
     },
     "execution_count": 131,
     "metadata": {},
     "output_type": "execute_result"
    }
   ],
   "source": [
    "\n",
    "data.shape"
   ]
  },
  {
   "cell_type": "markdown",
   "metadata": {
    "colab_type": "text",
    "id": "M7SrhQ76pC8v"
   },
   "source": [
    "when we perform one hot encoding dataframe size changes to **1080*89** but in this using label encoder case it reduce to 1080 * 82 **1080*82**"
   ]
  },
  {
   "cell_type": "markdown",
   "metadata": {
    "colab_type": "text",
    "id": "QxGbYxSjs7Wo"
   },
   "source": [
    "**3)  handling outlire**"
   ]
  },
  {
   "cell_type": "markdown",
   "metadata": {
    "colab_type": "text",
    "id": "KFvHGMs89CRs"
   },
   "source": [
    "\n",
    "tried to normalize the data but it didint work "
   ]
  },
  {
   "cell_type": "markdown",
   "metadata": {
    "colab_type": "text",
    "id": "PvnIXVWHC42Y"
   },
   "source": [
    "**we use quantile function to handle outlires**\n",
    "\n",
    "using quntile function we can get extream boundrey"
   ]
  },
  {
   "cell_type": "code",
   "execution_count": 132,
   "metadata": {
    "colab": {
     "base_uri": "https://localhost:8080/",
     "height": 70
    },
    "colab_type": "code",
    "id": "EqEma-p6_-cY",
    "outputId": "4b856956-6a89-40ab-de93-973be2662f5d"
   },
   "outputs": [
    {
     "name": "stdout",
     "output_type": "stream",
     "text": [
      "-0.010953971624999947\n",
      "0.7866904453749999\n"
     ]
    },
    {
     "data": {
      "text/plain": [
       "(None, None)"
      ]
     },
     "execution_count": 132,
     "metadata": {},
     "output_type": "execute_result"
    }
   ],
   "source": [
    "\n",
    "IQR=data.DYRK1A_N.quantile(0.75)-data.DYRK1A_N.quantile(0.25)\n",
    "lower_bridge=data['DYRK1A_N'].quantile(0.25)-(IQR*1.5)\n",
    "upper_bridge=data['DYRK1A_N'].quantile(0.75)+(IQR*1.5)\n",
    "print(lower_bridge), print(upper_bridge)"
   ]
  },
  {
   "cell_type": "code",
   "execution_count": 133,
   "metadata": {
    "colab": {},
    "colab_type": "code",
    "id": "y094RAKj_m2I"
   },
   "outputs": [],
   "source": [
    "data.loc[data['DYRK1A_N']>=0.78,'DYRK1A_N']=0.78"
   ]
  },
  {
   "cell_type": "code",
   "execution_count": 134,
   "metadata": {
    "colab": {},
    "colab_type": "code",
    "id": "Pf8VZzFblXzs"
   },
   "outputs": [],
   "source": [
    "\n",
    "for i in range(1,len(data.columns)-5):\n",
    "  #data[data.columns[1]].quantile(0.75)\n",
    "  #qvalue=data[data.columns[i]].quantile(0.75)\n",
    "  #data.loc[data['DYRK1A_N']>=0.78,'DYRK1A_N']=0.78\n",
    "  #data.loc[data[data.columns[i]]>=qvalue,data.columns[i]]=qvalue\n",
    "  IQR=data[data.columns[i]].quantile(0.75)-data[data.columns[i]].quantile(0.25)\n",
    "  upper_bridge=data[data.columns[i]].quantile(0.75)+(IQR*1.5)\n",
    "  data.loc[data[data.columns[i]]>=upper_bridge,data.columns[i]]=upper_bridge\n"
   ]
  },
  {
   "cell_type": "markdown",
   "metadata": {
    "colab_type": "text",
    "id": "4jTidN70V0mT"
   },
   "source": [
    "**Model building**"
   ]
  },
  {
   "cell_type": "code",
   "execution_count": 135,
   "metadata": {
    "colab": {},
    "colab_type": "code",
    "id": "aX9qzGs1La6S"
   },
   "outputs": [],
   "source": [
    "x=data.iloc[:,0:79]\n",
    "y=data.pop('class')\n",
    "norm = MinMaxScaler().fit(x)\n",
    "new_x = norm.transform(x)"
   ]
  },
  {
   "cell_type": "code",
   "execution_count": 136,
   "metadata": {
    "colab": {},
    "colab_type": "code",
    "id": "_x-BPNQ_JYpr"
   },
   "outputs": [],
   "source": [
    "from sklearn.model_selection import train_test_split \n",
    "X_train, X_test, y_train, y_test = train_test_split(new_x, y, test_size = 0.25)"
   ]
  },
  {
   "cell_type": "code",
   "execution_count": 137,
   "metadata": {
    "colab": {},
    "colab_type": "code",
    "id": "SBghkXyVsqfG"
   },
   "outputs": [],
   "source": [
    "from sklearn import tree\n",
    "dt = tree.DecisionTreeClassifier()\n",
    "model2 = dt.fit(X_train, y_train)"
   ]
  },
  {
   "cell_type": "code",
   "execution_count": 138,
   "metadata": {
    "colab": {},
    "colab_type": "code",
    "id": "aR6UiyVasygF"
   },
   "outputs": [],
   "source": [
    "prad2 = model2.predict(X_test)"
   ]
  },
  {
   "cell_type": "code",
   "execution_count": 139,
   "metadata": {},
   "outputs": [
    {
     "data": {
      "text/plain": [
       "array([[39,  2,  0,  0,  0,  0,  0,  0],\n",
       "       [ 1, 36,  1,  0,  0,  0,  0,  0],\n",
       "       [ 0,  0, 31,  0,  0,  0,  0,  0],\n",
       "       [ 0,  0,  3, 30,  0,  0,  0,  0],\n",
       "       [ 0,  0,  0,  0, 28,  9,  0,  0],\n",
       "       [ 0,  0,  0,  0,  1, 22,  0,  0],\n",
       "       [ 0,  0,  0,  0,  0,  0, 32,  0],\n",
       "       [ 0,  0,  0,  0,  1,  0,  1, 33]], dtype=int64)"
      ]
     },
     "execution_count": 139,
     "metadata": {},
     "output_type": "execute_result"
    }
   ],
   "source": [
    "from sklearn.metrics import confusion_matrix\n",
    "confusion_matrix(y_test, prad2)"
   ]
  },
  {
   "cell_type": "code",
   "execution_count": 140,
   "metadata": {
    "colab": {
     "base_uri": "https://localhost:8080/",
     "height": 34
    },
    "colab_type": "code",
    "id": "IcRTnxqOs06M",
    "outputId": "c46d9c53-12a4-4afa-df36-d690814a2845"
   },
   "outputs": [
    {
     "data": {
      "text/plain": [
       "0.9296296296296296"
      ]
     },
     "execution_count": 140,
     "metadata": {},
     "output_type": "execute_result"
    }
   ],
   "source": [
    "from sklearn.metrics import accuracy_score\n",
    "accuracy_score(y_test, prad2)"
   ]
  },
  {
   "cell_type": "code",
   "execution_count": null,
   "metadata": {},
   "outputs": [],
   "source": []
  }
 ],
 "metadata": {
  "colab": {
   "collapsed_sections": [],
   "name": "ineuronv7_2.ipynb",
   "provenance": []
  },
  "kernelspec": {
   "display_name": "Python 3",
   "language": "python",
   "name": "python3"
  },
  "language_info": {
   "codemirror_mode": {
    "name": "ipython",
    "version": 3
   },
   "file_extension": ".py",
   "mimetype": "text/x-python",
   "name": "python",
   "nbconvert_exporter": "python",
   "pygments_lexer": "ipython3",
   "version": "3.8.10"
  }
 },
 "nbformat": 4,
 "nbformat_minor": 1
}
